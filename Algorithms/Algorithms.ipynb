{
 "cells": [
  {
   "cell_type": "markdown",
   "metadata": {},
   "source": [
    "### https://www.hackerrank.com/dashboard"
   ]
  },
  {
   "cell_type": "markdown",
   "metadata": {},
   "source": [
    "### Solve Me First"
   ]
  },
  {
   "cell_type": "code",
   "execution_count": null,
   "metadata": {},
   "outputs": [],
   "source": [
    "def solveMeFirst(a,b):\n",
    "\treturn a + b\n",
    "\n",
    "\n",
    "num1 = int(input())\n",
    "num2 = int(input())\n",
    "res = solveMeFirst(num1,num2)\n",
    "print(res)"
   ]
  },
  {
   "cell_type": "markdown",
   "metadata": {},
   "source": [
    "### Simple Array Sum"
   ]
  },
  {
   "cell_type": "code",
   "execution_count": null,
   "metadata": {},
   "outputs": [],
   "source": [
    "def simpleArraySum(ar):\n",
    "    return sum(ar)\n",
    "\n",
    "if __name__ == '__main__':\n",
    "\n",
    "    ar_count = int(input().strip())\n",
    "\n",
    "    ar = list(map(int, input().rstrip().split()))\n",
    "\n",
    "    result = simpleArraySum(ar)"
   ]
  },
  {
   "cell_type": "markdown",
   "metadata": {},
   "source": [
    "### Compare the Triplets"
   ]
  },
  {
   "cell_type": "code",
   "execution_count": null,
   "metadata": {},
   "outputs": [],
   "source": [
    "def compareTriplets(a, b):\n",
    "    score = [0, 0]\n",
    "    for i in range(len(a)):\n",
    "        if a[i] > b[i]:\n",
    "            score[0] += 1\n",
    "        elif a[i] == b[i]:\n",
    "            pass\n",
    "        elif a[i] < b[i]:\n",
    "            score[1] += 1\n",
    "    \n",
    "    return score\n",
    "\n",
    "if __name__ == '__main__':\n",
    "\n",
    "    a = list(map(int, input().rstrip().split()))\n",
    "\n",
    "    b = list(map(int, input().rstrip().split()))\n",
    "\n",
    "    result = compareTriplets(a, b)\n",
    "    print(result)"
   ]
  },
  {
   "cell_type": "markdown",
   "metadata": {},
   "source": [
    "### A Very Big Sum"
   ]
  },
  {
   "cell_type": "code",
   "execution_count": null,
   "metadata": {},
   "outputs": [],
   "source": [
    "def aVeryBigSum(ar):\n",
    "    return(sum(ar))\n",
    "\n",
    "if __name__ == '__main__':\n",
    "\n",
    "    ar_count = int(input().strip())\n",
    "\n",
    "    ar = list(map(int, input().rstrip().split()))\n",
    "\n",
    "    result = aVeryBigSum(ar)\n",
    "    \n",
    "    print(result)"
   ]
  },
  {
   "cell_type": "markdown",
   "metadata": {},
   "source": [
    "### Diagonal Difference"
   ]
  },
  {
   "cell_type": "code",
   "execution_count": null,
   "metadata": {},
   "outputs": [],
   "source": [
    "def diagonalDifference(arr):\n",
    "    x = 0\n",
    "    \n",
    "    for i in range(len(arr)):\n",
    "        x += arr[i][i]\n",
    "    \n",
    "    for i in range(len(arr)):\n",
    "        x += -arr[i][-i - 1]\n",
    "    \n",
    "    return abs(x)\n",
    "\n",
    "if __name__ == '__main__':\n",
    "\n",
    "    n = int(input().strip())\n",
    "\n",
    "    arr = []\n",
    "\n",
    "    for _ in range(n):\n",
    "        arr.append(list(map(int, input().rstrip().split())))\n",
    "\n",
    "    result = diagonalDifference(arr)\n",
    "    \n",
    "    print(result)"
   ]
  },
  {
   "cell_type": "markdown",
   "metadata": {},
   "source": [
    "### Plus Minus"
   ]
  },
  {
   "cell_type": "code",
   "execution_count": null,
   "metadata": {},
   "outputs": [],
   "source": [
    "def plusMinus(arr):\n",
    "  x = [0, 0, 0]\n",
    "  \n",
    "  for i in arr:\n",
    "    if i > 0:\n",
    "      x[0] += (1/len(arr))\n",
    "    elif i == 0:\n",
    "      x[1] += (1/len(arr))\n",
    "    elif i < 0:\n",
    "      x[2] += (1/len(arr))\n",
    "\n",
    "  for i in x:\n",
    "    print(f\"{i:.4f}\")\n",
    "\n",
    "if __name__ == '__main__':\n",
    "    n = int(input().strip())\n",
    "\n",
    "    arr = list(map(int, input().rstrip().split()))\n",
    "\n",
    "    plusMinus(arr)"
   ]
  },
  {
   "cell_type": "markdown",
   "metadata": {},
   "source": [
    "### Staircase"
   ]
  },
  {
   "cell_type": "code",
   "execution_count": null,
   "metadata": {},
   "outputs": [],
   "source": [
    "n = 6\n",
    "stair = \"#\"\n",
    "sep = \" \"\n",
    "x = n -1\n",
    "\n",
    "for i in range(1, n+1):\n",
    "  print(f\"{sep * x}{stair * i}\")\n",
    "  x -= 1"
   ]
  },
  {
   "cell_type": "markdown",
   "metadata": {},
   "source": [
    "### Mini-Max Sum"
   ]
  },
  {
   "cell_type": "code",
   "execution_count": null,
   "metadata": {},
   "outputs": [],
   "source": [
    "arr = [7,69,2,221,8974]\n",
    "arr = sorted(arr)\n",
    "print(sum(arr[:len(arr)-1]), sum(arr[1:]))"
   ]
  },
  {
   "cell_type": "markdown",
   "metadata": {},
   "source": [
    "### Birthday Cake Candles"
   ]
  },
  {
   "cell_type": "code",
   "execution_count": null,
   "metadata": {},
   "outputs": [],
   "source": [
    "candles = [4,4,1,3]\n",
    "\n",
    "candles.count(max(candles))"
   ]
  },
  {
   "cell_type": "markdown",
   "metadata": {},
   "source": [
    "### Time Conversion"
   ]
  },
  {
   "cell_type": "code",
   "execution_count": 105,
   "metadata": {},
   "outputs": [],
   "source": [
    "from datetime import datetime"
   ]
  },
  {
   "cell_type": "code",
   "execution_count": null,
   "metadata": {},
   "outputs": [],
   "source": [
    "s = \"12:01:00PM\"\n",
    "hour = datetime.strptime(s ,\"%I:%M:%S%p\").time()\n",
    "print(hour.strftime(\"%H:%M:%S\"))"
   ]
  },
  {
   "cell_type": "markdown",
   "metadata": {},
   "source": [
    "### Grading Students"
   ]
  },
  {
   "cell_type": "code",
   "execution_count": 167,
   "metadata": {},
   "outputs": [],
   "source": [
    "grades = [73,67,38,33]\n",
    "\n",
    "y = [] # Armazenar os múltiplos de 5\n",
    "for i in range(101):\n",
    "  if i % 5 == 0:\n",
    "    y.append(i)\n",
    "    \n",
    "results = []\n",
    "\n",
    "for _ in grades:\n",
    "    if _ < 37:\n",
    "      results.append(_)\n",
    "    elif _ % 5 == 0:\n",
    "      results.append(_)\n",
    "    elif _ % 5 != 0:\n",
    "      # Retorna o valor múltiplo de 5 mais próximo acima dele\n",
    "      z = y[min(range(len(y)), key=lambda i: y[i] < _)]\n",
    "      if z - _ < 3:\n",
    "        results.append(z)\n",
    "      else:\n",
    "        results.append(_)"
   ]
  },
  {
   "cell_type": "markdown",
   "metadata": {},
   "source": [
    "### Apple and Orange"
   ]
  },
  {
   "cell_type": "code",
   "execution_count": 195,
   "metadata": {},
   "outputs": [],
   "source": [
    "s = 7\n",
    "t = 10\n",
    "a = 4\n",
    "b = 12\n",
    "n_apple = 3\n",
    "n_orange = 3\n",
    "apples = [2,3,-4]\n",
    "oranges = [3,-2,-4]"
   ]
  },
  {
   "cell_type": "code",
   "execution_count": 196,
   "metadata": {},
   "outputs": [],
   "source": [
    "land_apple = [i+a for i in apples]\n",
    "land_orange = [i+b for i in oranges]\n",
    "apple_house = len([i for i in land_apple if i >= s and i <= t])\n",
    "orange_house = len([i for i in land_orange if i >= s and i <= t])"
   ]
  },
  {
   "cell_type": "markdown",
   "metadata": {},
   "source": [
    "### Number Line Jumps"
   ]
  },
  {
   "cell_type": "code",
   "execution_count": null,
   "metadata": {},
   "outputs": [],
   "source": [
    "x1 = 2\n",
    "v1 = 1\n",
    "x2 = 1\n",
    "v2 = 2\n",
    "\n",
    "if v1 > v2 and (x2-x1) % (v1-v2) == 0:\n",
    "  print(\"YES\")\n",
    "else:\n",
    "  print(\"NO\")"
   ]
  },
  {
   "cell_type": "markdown",
   "metadata": {},
   "source": [
    "### Between Two Sets"
   ]
  },
  {
   "cell_type": "code",
   "execution_count": null,
   "metadata": {},
   "outputs": [],
   "source": [
    "from math import gcd\n",
    "from functools import reduce\n",
    "\n",
    "hcf = reduce(gcd, b) # Aplica a equação para todos as variáveis\n",
    "lcm = reduce(lambda x, y: (x*y)//gcd(x, y), a)\n",
    "lcm1 = lcm\n",
    "count = 0\n",
    "\n",
    "while (lcm <= hcf):\n",
    "    if (hcf % lcm == 0):\n",
    "        count += 1\n",
    "    lcm += lcm1\n",
    "\n",
    "print(count)"
   ]
  },
  {
   "cell_type": "markdown",
   "metadata": {},
   "source": [
    "### Breaking the Records"
   ]
  },
  {
   "cell_type": "markdown",
   "metadata": {},
   "source": [
    "#### Solve 1"
   ]
  },
  {
   "cell_type": "code",
   "execution_count": null,
   "metadata": {},
   "outputs": [],
   "source": [
    "import pandas as pd"
   ]
  },
  {
   "cell_type": "code",
   "execution_count": 141,
   "metadata": {},
   "outputs": [],
   "source": [
    "score = [10,5,20,20,4,5,2,25,1]\n",
    "game = [score.index(i)+1 for i in score]\n",
    "minimum = [score[0]]\n",
    "maximum = [score[0]]\n",
    "max_count = [0]\n",
    "min_count = [0]"
   ]
  },
  {
   "cell_type": "code",
   "execution_count": 142,
   "metadata": {},
   "outputs": [],
   "source": [
    "while len(maximum) != len(score):\n",
    "  for i in range(1,max(game)):\n",
    "    if score[i] > max(maximum):\n",
    "      maximum.append(score[i])\n",
    "      max_count.append(1)\n",
    "    else:\n",
    "      maximum.append(max(maximum))\n",
    "      max_count.append(0)"
   ]
  },
  {
   "cell_type": "code",
   "execution_count": 143,
   "metadata": {},
   "outputs": [],
   "source": [
    "while len(minimum) != len(score):\n",
    "  for i in range(1,max(game)):\n",
    "    if score[i] < min(minimum):\n",
    "      minimum.append(score[i])\n",
    "      min_count.append(1)\n",
    "    else:\n",
    "      minimum.append(max(minimum))\n",
    "      min_count.append(0)"
   ]
  },
  {
   "cell_type": "code",
   "execution_count": 144,
   "metadata": {},
   "outputs": [],
   "source": [
    "my_columns = pd.MultiIndex.from_tuples([\n",
    "  (\"\", \"Game\"),\n",
    "  (\"\", \"Score\"),\n",
    "  (\"\", \"Minimum\"),\n",
    "  (\"\", \"Maximum\"),\n",
    "  (\"Count\",\"Min\"),\n",
    "  (\"Count\",\"Max\")\n",
    "  ])"
   ]
  },
  {
   "cell_type": "code",
   "execution_count": 145,
   "metadata": {},
   "outputs": [],
   "source": [
    "pd.DataFrame(zip(game,score,minimum,maximum,min_count, max_count), columns=my_columns)"
   ]
  },
  {
   "cell_type": "code",
   "execution_count": null,
   "metadata": {},
   "outputs": [],
   "source": [
    "sum(max_count), sum(min_count)"
   ]
  },
  {
   "cell_type": "markdown",
   "metadata": {},
   "source": [
    "#### Solve 2"
   ]
  },
  {
   "cell_type": "code",
   "execution_count": null,
   "metadata": {},
   "outputs": [],
   "source": [
    "from itertools import accumulate\n",
    "\n",
    "score = [10,5,20,20,4,5,2,25,1]\n",
    "\n",
    "minbreak = accumulate(score, min)\n",
    "maxbreak = accumulate(score, max)\n",
    "    \n",
    "((len(set(maxbreak))-1), len(set(minbreak))-1)"
   ]
  },
  {
   "cell_type": "markdown",
   "metadata": {},
   "source": [
    "### Subarray Division\n"
   ]
  },
  {
   "cell_type": "code",
   "execution_count": null,
   "metadata": {},
   "outputs": [],
   "source": [
    "s = [1,1,1,1,1,1]\n",
    "d = 3\n",
    "m = 2\n",
    "\n",
    "def subarray_division(s,d,m):\n",
    "  res = 0\n",
    "  for i in range(len(s)):\n",
    "    if sum(s[i: i + m]) == d:\n",
    "      res += 1\n",
    "  return res\n",
    "\n",
    "subarray_division(s,d,m)"
   ]
  },
  {
   "cell_type": "markdown",
   "metadata": {},
   "source": [
    "### Divisible Sum Pairs"
   ]
  },
  {
   "cell_type": "code",
   "execution_count": 13,
   "metadata": {},
   "outputs": [],
   "source": [
    "from itertools import product"
   ]
  },
  {
   "cell_type": "code",
   "execution_count": 19,
   "metadata": {},
   "outputs": [],
   "source": [
    "#\n",
    "n = 6\n",
    "k = 3\n",
    "ar = [1,3,2,6,1,2]\n",
    "\n",
    "def div_sum_pairs(n, k, ar):\n",
    "  pairs = 0\n",
    "  for i,j in product(range(n), range(n)):\n",
    "    if i < j and (ar[i] + ar[j]) % k == 0:\n",
    "      pairs += 1\n",
    "  return pairs\n",
    "\n",
    "div_sum_pairs(n,k,ar)"
   ]
  },
  {
   "cell_type": "markdown",
   "metadata": {},
   "source": [
    "### Migratory Birds"
   ]
  },
  {
   "cell_type": "code",
   "execution_count": 9,
   "metadata": {},
   "outputs": [],
   "source": [
    "import statistics as sts\n",
    "arr = [1,4,4,4,5,3]\n",
    "min(sts.multimode(arr))"
   ]
  },
  {
   "cell_type": "markdown",
   "metadata": {},
   "source": [
    "### Day of the Programmer"
   ]
  },
  {
   "cell_type": "code",
   "execution_count": 138,
   "metadata": {},
   "outputs": [],
   "source": [
    "import datetime as dt\n",
    "\n",
    "def dayOfProgrammer(year):\n",
    "  if year > 1918:\n",
    "      if (year % 4 == 0 and year % 100 != 0) or year % 400 == 0:\n",
    "          return f\"12.09.{year}\"\n",
    "      else:\n",
    "          return f\"13.09.{year}\"\n",
    "  elif year < 1918:\n",
    "      if year % 4 == 0:\n",
    "          return f\"12.09.{year}\"\n",
    "      else:\n",
    "          return f\"13.09.{year}\"\n",
    "  elif year == 1918:\n",
    "    return f\"26.09.{year}\""
   ]
  },
  {
   "cell_type": "markdown",
   "metadata": {},
   "source": [
    "### Bill Division"
   ]
  },
  {
   "cell_type": "code",
   "execution_count": null,
   "metadata": {},
   "outputs": [],
   "source": [
    "bill = [3, 10, 2, 9]\n",
    "k = 1\n",
    "b = 12\n",
    "\n",
    "def bonAppetit(bill, k, b):\n",
    "    anna = sum(i for i in bill)\n",
    "    anna = abs(((anna - bill[k])/2)-b)\n",
    "    if anna == 0:\n",
    "        print(\"Bon Appetit\")\n",
    "    else:\n",
    "        print(int(anna))\n",
    "\n",
    "bonAppetit(bill, k, b)"
   ]
  },
  {
   "cell_type": "markdown",
   "metadata": {},
   "source": [
    "### Sales by Match"
   ]
  },
  {
   "cell_type": "code",
   "execution_count": 14,
   "metadata": {},
   "outputs": [],
   "source": [
    "arr = [10, 20, 20, 10, 10, 30, 50, 10, 20]\n",
    "\n",
    "def sockMerchant(n, ar):\n",
    "  x = 0\n",
    "  for i in set(arr):\n",
    "    x += int(arr.count(i) / 2)\n",
    "  return x"
   ]
  },
  {
   "cell_type": "markdown",
   "metadata": {},
   "source": [
    "### Drawing Book"
   ]
  },
  {
   "cell_type": "code",
   "execution_count": null,
   "metadata": {},
   "outputs": [],
   "source": [
    "n = 5\n",
    "p = 4\n",
    "\n",
    "def pageCount(n, p):\n",
    "  x = p // 2\n",
    "  y = (n //2) - (p // 2)\n",
    "  return min(x,y)\n",
    "\n",
    "pageCount(n, p)"
   ]
  },
  {
   "cell_type": "markdown",
   "metadata": {},
   "source": [
    "### Counting Valleys"
   ]
  },
  {
   "cell_type": "code",
   "execution_count": null,
   "metadata": {},
   "outputs": [],
   "source": [
    "path = \"DDUUDDUDUUUD\"\n",
    "steps = len(path)\n",
    "\n",
    "\n",
    "def countingValleys(steps, path):\n",
    "  position = 0\n",
    "  hills = 0\n",
    "  for i in range(steps):\n",
    "    if path[i] == \"U\":\n",
    "      position += 1\n",
    "    elif path[i] == \"D\":\n",
    "      position -= 1\n",
    "    \n",
    "    if position == 0 and path[i] == \"U\":\n",
    "      hills += 1\n",
    "    \n",
    "  return hills\n",
    "\n",
    "countingValleys(steps, path)"
   ]
  },
  {
   "cell_type": "markdown",
   "metadata": {},
   "source": [
    "### Eletronic Shop"
   ]
  },
  {
   "cell_type": "code",
   "execution_count": null,
   "metadata": {},
   "outputs": [],
   "source": [
    "b = 5\n",
    "keyboards = [4]\n",
    "drives = [5]\n",
    "\n",
    "def getMoneySpent(keyboards, drives, b):\n",
    "    x = -1\n",
    "    for i in keyboards:\n",
    "        for j in drives:\n",
    "            if x < (i+j) and (i+j) <= b :\n",
    "                x = i+j\n",
    "    \n",
    "    return x\n",
    "\n",
    "getMoneySpent(keyboards, drives, b)"
   ]
  },
  {
   "cell_type": "markdown",
   "metadata": {},
   "source": [
    "### Cats and a Mouse"
   ]
  },
  {
   "cell_type": "code",
   "execution_count": null,
   "metadata": {},
   "outputs": [],
   "source": [
    "x = 2\n",
    "y = 5\n",
    "z = 4\n",
    "\n",
    "def catAndMouse(x, y, z):\n",
    "  xz = abs(x - z)\n",
    "  yz = abs(y - z)\n",
    "  if xz < yz:\n",
    "    return \"Cat A\"\n",
    "  elif xz > yz:\n",
    "    return \"Cat B\"\n",
    "  elif xz == yz:\n",
    "    \"Mouse C\"\n",
    "\n",
    "catAndMouse(x, y, z)"
   ]
  },
  {
   "cell_type": "markdown",
   "metadata": {},
   "source": [
    "### Forming a Magic Square"
   ]
  },
  {
   "cell_type": "code",
   "execution_count": null,
   "metadata": {},
   "outputs": [],
   "source": []
  }
 ],
 "metadata": {
  "kernelspec": {
   "display_name": "venv",
   "language": "python",
   "name": "python3"
  },
  "language_info": {
   "codemirror_mode": {
    "name": "ipython",
    "version": 3
   },
   "file_extension": ".py",
   "mimetype": "text/x-python",
   "name": "python",
   "nbconvert_exporter": "python",
   "pygments_lexer": "ipython3",
   "version": "3.12.6"
  }
 },
 "nbformat": 4,
 "nbformat_minor": 2
}
